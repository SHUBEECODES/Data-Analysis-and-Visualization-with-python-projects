{
 "cells": [
  {
   "cell_type": "code",
   "execution_count": null,
   "id": "111b904c-be75-4400-b392-04a7f097783f",
   "metadata": {},
   "outputs": [],
   "source": []
  }
 ],
 "metadata": {
  "kernelspec": {
   "display_name": "",
   "name": ""
  },
  "language_info": {
   "name": ""
  }
 },
 "nbformat": 4,
 "nbformat_minor": 5
}
